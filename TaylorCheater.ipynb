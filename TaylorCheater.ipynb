{
 "cells": [
  {
   "cell_type": "markdown",
   "metadata": {},
   "source": [
    "# Taylorcheater"
   ]
  },
  {
   "cell_type": "code",
   "execution_count": 971,
   "metadata": {},
   "outputs": [],
   "source": [
    "# zukünftige verbesserungen:\n",
    "# mehr als eine Var zb math.sin(x_null)+math.cos(x_null)"
   ]
  },
  {
   "cell_type": "code",
   "execution_count": 972,
   "metadata": {},
   "outputs": [],
   "source": [
    "import matplotlib.pyplot as plt\n",
    "import numpy as np\n",
    "import math\n",
    "import sympy as sy\n",
    "import matplotlib as mpl \n",
    "import matplotlib.pyplot as plt\n",
    "from sympy import *"
   ]
  },
  {
   "cell_type": "code",
   "execution_count": 973,
   "metadata": {},
   "outputs": [],
   "source": [
    "x = Symbol('x')"
   ]
  },
  {
   "cell_type": "code",
   "execution_count": 974,
   "metadata": {},
   "outputs": [],
   "source": [
    "# Entwicklungsmitte\n",
    "x_null = 2"
   ]
  },
  {
   "cell_type": "code",
   "execution_count": 975,
   "metadata": {},
   "outputs": [],
   "source": [
    "# Funktion\n",
    "# abändern zu zb math.sin(x_null) oder x**3+2*x+3 oder x**4 usw\n",
    "# funk = (x_null)**3+2*(x_null)+3\n",
    "funk = math.sin(x_null)\n",
    "# funk = math.tan(x_null)\n",
    "# funk = math.(x_null)**(1/2)\n",
    "# funk = math.sqrt(x_null)\n",
    "# funk = math.log(x_null)\n",
    "\n",
    "###\n",
    "# funk = 10*((math.exp)**(-(1/2)*(x_null)) \n",
    "# funk = (1/x)\n",
    "# funk = (1/(x**2))\n",
    "###\n",
    "\n",
    "# abändern für die symbolische darstellung -> ohne math.xy\n",
    "funk_sym = sin(x)\n",
    "# funk_sym = tan(x)\n",
    "# funk_sym = (x**(1/2))\n",
    "# funk_sym = sqrt(x)\n",
    "# funk_sym = x**3+2*x+3\n",
    "# funk_sym = log(x)\n",
    "\n",
    "###\n",
    "# funk_sym = 10*((exp)**((x)*(-1/2)) -> funktioniert nicht\n",
    "# funk_sym = (1/x)\n",
    "# funk_sym = (1/(x**2))\n",
    "###\n",
    "\n",
    "# Achtung bei Wurzelfunktionen die Entwicklungsmitte nicht auf 0 oder 1 oder negativ setzen und die Plotteinstellungen anpassen:\n",
    "# Entwicklungsmitte = 5 -> plot(listinchen, (x, 0, 10))\n",
    "# Enwicklungsmitte = 4/3 -> plot(listinchen, (x, 0, 5))\n",
    "# Entwicklungsmitte = 2 -> plot(listinchen, (x, 0, 4))\n",
    "# usw.\n",
    "\n",
    "# Bei Logarithmus:\n",
    "# Keine negative oder 0 Entwicklungsmitte und Plotteinstellung wie folgt oder entsprechend anpassen\n",
    "# Plotteinstellung für Log mit Entwicklungsmitte 4: plot(y,(a, 0, 6))\n",
    "# Plotteinstellung für Log mit Entwicklungsmitte 2/3: plot(y,(a, 0, 2))\n",
    "# Plotteinstellung für Log mit Entwicklungsmitte 1:plot(y,(a, 0, 6))"
   ]
  },
  {
   "cell_type": "code",
   "execution_count": 976,
   "metadata": {},
   "outputs": [
    {
     "data": {
      "text/plain": [
       "0.9092974268256817"
      ]
     },
     "execution_count": 976,
     "metadata": {},
     "output_type": "execute_result"
    }
   ],
   "source": [
    "funk"
   ]
  },
  {
   "cell_type": "code",
   "execution_count": 977,
   "metadata": {},
   "outputs": [
    {
     "data": {
      "text/latex": [
       "$\\displaystyle \\sin{\\left(x \\right)}$"
      ],
      "text/plain": [
       "sin(x)"
      ]
     },
     "execution_count": 977,
     "metadata": {},
     "output_type": "execute_result"
    }
   ],
   "source": [
    "funk_sym"
   ]
  },
  {
   "cell_type": "code",
   "execution_count": 978,
   "metadata": {},
   "outputs": [],
   "source": [
    "# Grad bis zu welchen entwickelt werden soll:\n",
    "Expo = 50"
   ]
  },
  {
   "cell_type": "markdown",
   "metadata": {},
   "source": [
    "## Ableitungen\n"
   ]
  },
  {
   "cell_type": "markdown",
   "metadata": {},
   "source": [
    "### 1. Ableitung"
   ]
  },
  {
   "cell_type": "code",
   "execution_count": 979,
   "metadata": {},
   "outputs": [],
   "source": [
    "funk_1 = diff(funk_sym)"
   ]
  },
  {
   "cell_type": "code",
   "execution_count": 980,
   "metadata": {},
   "outputs": [
    {
     "data": {
      "text/latex": [
       "$\\displaystyle \\cos{\\left(x \\right)}$"
      ],
      "text/plain": [
       "cos(x)"
      ]
     },
     "execution_count": 980,
     "metadata": {},
     "output_type": "execute_result"
    }
   ],
   "source": [
    "funk_1"
   ]
  },
  {
   "cell_type": "markdown",
   "metadata": {},
   "source": [
    "### 2. Ableitung:"
   ]
  },
  {
   "cell_type": "code",
   "execution_count": 981,
   "metadata": {},
   "outputs": [],
   "source": [
    "funk_2 = diff(funk_1)"
   ]
  },
  {
   "cell_type": "code",
   "execution_count": 982,
   "metadata": {},
   "outputs": [
    {
     "data": {
      "text/latex": [
       "$\\displaystyle - \\sin{\\left(x \\right)}$"
      ],
      "text/plain": [
       "-sin(x)"
      ]
     },
     "execution_count": 982,
     "metadata": {},
     "output_type": "execute_result"
    }
   ],
   "source": [
    "funk_2"
   ]
  },
  {
   "cell_type": "markdown",
   "metadata": {},
   "source": [
    "### 3. Ableitung"
   ]
  },
  {
   "cell_type": "code",
   "execution_count": 983,
   "metadata": {},
   "outputs": [],
   "source": [
    "funk_3 = diff(funk_2)"
   ]
  },
  {
   "cell_type": "code",
   "execution_count": 984,
   "metadata": {},
   "outputs": [
    {
     "data": {
      "text/latex": [
       "$\\displaystyle - \\cos{\\left(x \\right)}$"
      ],
      "text/plain": [
       "-cos(x)"
      ]
     },
     "execution_count": 984,
     "metadata": {},
     "output_type": "execute_result"
    }
   ],
   "source": [
    "funk_3"
   ]
  },
  {
   "cell_type": "markdown",
   "metadata": {},
   "source": [
    "### 4. Ableitung"
   ]
  },
  {
   "cell_type": "code",
   "execution_count": 985,
   "metadata": {},
   "outputs": [],
   "source": [
    "funk_4 = diff(funk_3)"
   ]
  },
  {
   "cell_type": "code",
   "execution_count": 986,
   "metadata": {},
   "outputs": [
    {
     "data": {
      "text/latex": [
       "$\\displaystyle \\sin{\\left(x \\right)}$"
      ],
      "text/plain": [
       "sin(x)"
      ]
     },
     "execution_count": 986,
     "metadata": {},
     "output_type": "execute_result"
    }
   ],
   "source": [
    "funk_4"
   ]
  },
  {
   "cell_type": "markdown",
   "metadata": {},
   "source": [
    "### 5. Ableitung"
   ]
  },
  {
   "cell_type": "code",
   "execution_count": 987,
   "metadata": {},
   "outputs": [],
   "source": [
    "funk_5 = diff(funk_4)"
   ]
  },
  {
   "cell_type": "code",
   "execution_count": 988,
   "metadata": {},
   "outputs": [
    {
     "data": {
      "text/latex": [
       "$\\displaystyle \\cos{\\left(x \\right)}$"
      ],
      "text/plain": [
       "cos(x)"
      ]
     },
     "execution_count": 988,
     "metadata": {},
     "output_type": "execute_result"
    }
   ],
   "source": [
    "funk_5"
   ]
  },
  {
   "cell_type": "markdown",
   "metadata": {},
   "source": [
    "### usw"
   ]
  },
  {
   "cell_type": "markdown",
   "metadata": {},
   "source": [
    "### Rekursiv:"
   ]
  },
  {
   "cell_type": "code",
   "execution_count": 989,
   "metadata": {},
   "outputs": [],
   "source": [
    "i = 0"
   ]
  },
  {
   "cell_type": "code",
   "execution_count": 990,
   "metadata": {},
   "outputs": [],
   "source": [
    "funki = funk_sym "
   ]
  },
  {
   "cell_type": "code",
   "execution_count": 991,
   "metadata": {},
   "outputs": [],
   "source": [
    "funki_list = [funk_sym]\n",
    "subs_liste = [funk_sym.subs(x, x_null)]"
   ]
  },
  {
   "cell_type": "code",
   "execution_count": 992,
   "metadata": {},
   "outputs": [],
   "source": [
    "while  i != Expo:\n",
    "    funki = diff(funki)\n",
    "    abl = funki.subs(x, x_null)\n",
    "    funki_list.append(funki)\n",
    "    subs_liste.append(abl)   \n",
    "    i = i+1"
   ]
  },
  {
   "cell_type": "code",
   "execution_count": 993,
   "metadata": {},
   "outputs": [],
   "source": [
    "# funki_list"
   ]
  },
  {
   "cell_type": "code",
   "execution_count": 994,
   "metadata": {},
   "outputs": [],
   "source": [
    "# subs_liste"
   ]
  },
  {
   "cell_type": "code",
   "execution_count": 995,
   "metadata": {},
   "outputs": [],
   "source": [
    "i = 0"
   ]
  },
  {
   "cell_type": "code",
   "execution_count": 996,
   "metadata": {},
   "outputs": [],
   "source": [
    "fak_liste = []"
   ]
  },
  {
   "cell_type": "code",
   "execution_count": 997,
   "metadata": {},
   "outputs": [],
   "source": [
    "while i != Expo+1:\n",
    "    fak = factorial(i)\n",
    "    fak_liste.append(fak)\n",
    "    i = i+1"
   ]
  },
  {
   "cell_type": "code",
   "execution_count": 998,
   "metadata": {},
   "outputs": [],
   "source": [
    "i = 0"
   ]
  },
  {
   "cell_type": "code",
   "execution_count": 999,
   "metadata": {},
   "outputs": [],
   "source": [
    "a_liste = []"
   ]
  },
  {
   "cell_type": "code",
   "execution_count": 1000,
   "metadata": {},
   "outputs": [],
   "source": [
    "while i != Expo+1:\n",
    "    a = subs_liste[i]/fak_liste[i]\n",
    "    a_liste.append(a)\n",
    "    i = i+1"
   ]
  },
  {
   "cell_type": "markdown",
   "metadata": {},
   "source": [
    "### Entwicklungsmitte"
   ]
  },
  {
   "cell_type": "code",
   "execution_count": 1001,
   "metadata": {},
   "outputs": [],
   "source": [
    "# Grad \n",
    "i = 0\n",
    "x = Symbol('x')\n",
    "pot_liste = []\n",
    "n_liste = []"
   ]
  },
  {
   "cell_type": "code",
   "execution_count": 1002,
   "metadata": {},
   "outputs": [],
   "source": [
    "# x_null = 1"
   ]
  },
  {
   "cell_type": "code",
   "execution_count": 1003,
   "metadata": {},
   "outputs": [],
   "source": [
    "while i != Expo+1:\n",
    "    m = (x-x_null)**i\n",
    "    n = expand(m)\n",
    "    n_liste.append(n)\n",
    "    pot_liste.append(m)\n",
    "    i = i+1"
   ]
  },
  {
   "cell_type": "code",
   "execution_count": 1004,
   "metadata": {},
   "outputs": [],
   "source": [
    "i = 0\n",
    "listinchen = 0"
   ]
  },
  {
   "cell_type": "code",
   "execution_count": 1005,
   "metadata": {},
   "outputs": [],
   "source": [
    "while i != Expo+1:\n",
    "    helpi = a_liste[i]*pot_liste[i]\n",
    "    listinchen = listinchen + helpi\n",
    "    # print(listinchen)\n",
    "    i = i+1"
   ]
  },
  {
   "cell_type": "code",
   "execution_count": 1006,
   "metadata": {},
   "outputs": [],
   "source": [
    "# listinchen"
   ]
  },
  {
   "cell_type": "code",
   "execution_count": 1015,
   "metadata": {},
   "outputs": [
    {
     "data": {
      "image/png": "[encoded data removed]",
      "text/plain": [
       "<Figure size 432x288 with 1 Axes>"
      ]
     },
     "metadata": {
      "needs_background": "light"
     },
     "output_type": "display_data"
    },
    {
     "data": {
      "image/png": "[encoded data removed]",
      "text/plain": [
       "<Figure size 432x288 with 1 Axes>"
      ]
     },
     "metadata": {
      "needs_background": "light"
     },
     "output_type": "display_data"
    },
    {
     "data": {
      "image/png": "[encoded data removed]",
      "text/plain": [
       "<Figure size 432x288 with 1 Axes>"
      ]
     },
     "metadata": {
      "needs_background": "light"
     },
     "output_type": "display_data"
    },
    {
     "data": {
      "image/png": "[encoded data removed]",
      "text/plain": [
       "<Figure size 432x288 with 1 Axes>"
      ]
     },
     "metadata": {
      "needs_background": "light"
     },
     "output_type": "display_data"
    },
    {
     "data": {
      "image/png": "[encoded data removed]",
      "text/plain": [
       "<Figure size 432x288 with 1 Axes>"
      ]
     },
     "metadata": {
      "needs_background": "light"
     },
     "output_type": "display_data"
    },
    {
     "data": {
      "text/plain": [
       "<sympy.plotting.plot.Plot at 0x7f0b791d5810>"
      ]
     },
     "execution_count": 1015,
     "metadata": {},
     "output_type": "execute_result"
    }
   ],
   "source": [
    "from sympy.plotting import plot as symplot\n",
    "x = Symbol('x')\n",
    "a = Symbol('a')\n",
    "\n",
    "#Die Funktion y anpassen zum vergleichen mit der approximierten Darstellung und um ggf die Plotteinstellungen abschätzen zu können bei schlechter darstellung:\n",
    "y = sin(a)\n",
    "# y = (a)**(1/3)\n",
    "# y = sqrt(a)\n",
    "# y = (a)**3+2*(a)+3\n",
    "# y = log(a)\n",
    "#y = tan(a)\n",
    "# y = 1/(a**2)\n",
    "#plot(y,(a))\n",
    "\n",
    "symplot(listinchen)\n",
    "plot(listinchen, (x, -2, 2))\n",
    "plot(y,(a, -5, 5))\n",
    "\n",
    "\n",
    "plot(y,(a, -10, 10))\n",
    "plot(listinchen, (x, -5, 5))"
   ]
  },
  {
   "cell_type": "code",
   "execution_count": 1008,
   "metadata": {},
   "outputs": [],
   "source": [
    "# x = np.linspace(1, 5, 10, 1) \n",
    "# fig = plt.figure() \n",
    "# plt.plot(x, np.log(x))"
   ]
  },
  {
   "cell_type": "code",
   "execution_count": 1009,
   "metadata": {},
   "outputs": [
    {
     "data": {
      "text/plain": [
       "[<matplotlib.lines.Line2D at 0x7f0b813c8bd0>]"
      ]
     },
     "execution_count": 1009,
     "metadata": {},
     "output_type": "execute_result"
    },
    {
     "data": {
      "image/png": "[encoded data removed]",
      "text/plain": [
       "<Figure size 432x288 with 1 Axes>"
      ]
     },
     "metadata": {
      "needs_background": "light"
     },
     "output_type": "display_data"
    }
   ],
   "source": [
    "x = np.linspace(-10, 10, 100, 1) \n",
    "fig = plt.figure() \n",
    "plt.plot(x, 1/(x**2))"
   ]
  },
  {
   "cell_type": "code",
   "execution_count": 1010,
   "metadata": {},
   "outputs": [],
   "source": [
    "# x = np.linspace(-3, 3, 100, 1) \n",
    "# fig = plt.figure() \n",
    "# plt.plot(x, np.sqrt(x))"
   ]
  },
  {
   "cell_type": "code",
   "execution_count": null,
   "metadata": {},
   "outputs": [],
   "source": []
  },
  {
   "cell_type": "code",
   "execution_count": 1011,
   "metadata": {},
   "outputs": [],
   "source": [
    "\n",
    "# x = np.linspace(-3, 3, 100, 1) \n",
    "# fig = plt.figure() \n",
    "# plt.plot(x, np.exp(x), '-') "
   ]
  },
  {
   "cell_type": "code",
   "execution_count": null,
   "metadata": {},
   "outputs": [],
   "source": []
  },
  {
   "cell_type": "code",
   "execution_count": null,
   "metadata": {},
   "outputs": [],
   "source": []
  },
  {
   "cell_type": "code",
   "execution_count": null,
   "metadata": {},
   "outputs": [],
   "source": []
  },
  {
   "cell_type": "code",
   "execution_count": null,
   "metadata": {},
   "outputs": [],
   "source": []
  },
  {
   "cell_type": "code",
   "execution_count": null,
   "metadata": {},
   "outputs": [],
   "source": []
  },
  {
   "cell_type": "code",
   "execution_count": null,
   "metadata": {},
   "outputs": [],
   "source": []
  },
  {
   "cell_type": "code",
   "execution_count": null,
   "metadata": {},
   "outputs": [],
   "source": []
  },
  {
   "cell_type": "code",
   "execution_count": null,
   "metadata": {},
   "outputs": [],
   "source": []
  }
 ],
 "metadata": {
  "kernelspec": {
   "display_name": "Python 3",
   "language": "python",
   "name": "python3"
  },
  "language_info": {
   "codemirror_mode": {
    "name": "ipython",
    "version": 3
   },
   "file_extension": ".py",
   "mimetype": "text/x-python",
   "name": "python",
   "nbconvert_exporter": "python",
   "pygments_lexer": "ipython3",
   "version": "3.7.4"
  }
 },
 "nbformat": 4,
 "nbformat_minor": 4
}
